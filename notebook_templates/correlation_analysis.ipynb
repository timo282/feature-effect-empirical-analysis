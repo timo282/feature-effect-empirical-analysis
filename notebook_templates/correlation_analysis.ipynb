{
 "cells": [
  {
   "cell_type": "markdown",
   "metadata": {
    "slideshow": {
     "slide_type": "slide"
    }
   },
   "source": [
    "# Correlation Analysis: Model Error vs. Feature Effect Error"
   ]
  },
  {
   "cell_type": "markdown",
   "metadata": {},
   "source": [
    "<script>\n",
    "    document.querySelector('head').innerHTML += '<style>.slides { zoom: 0.975 !important; }</style>';\n",
    "</script>\n",
    "<style>\n",
    "/* Ensure the entire cell and its output take full width */\n",
    ".reveal .slides > section .cell {\n",
    "    width: 90% !important;\n",
    "    margin: 0 auto;\n",
    "}\n",
    "\n",
    ".reveal .slides > section .output {\n",
    "    width: 90% !important;\n",
    "    max-width: 90% !important;\n",
    "    height: 90% !important;\n",
    "    max-height: 90% !important;\n",
    "    margin: 0 auto;\n",
    "}\n",
    "\n",
    "/* Optional: Adjust the slide width if necessary */\n",
    ".reveal .slides {\n",
    "    width: 90% !important;\n",
    "    max-width: 90% !important;\n",
    "    height: 90% !important;\n",
    "    max-height: 90% !important;\n",
    "}\n",
    "\n",
    "\n",
    "</style>"
   ]
  },
  {
   "cell_type": "markdown",
   "metadata": {
    "slideshow": {
     "slide_type": "slide"
    }
   },
   "source": [
    "## Model Results"
   ]
  },
  {
   "cell_type": "code",
   "execution_count": null,
   "metadata": {
    "slideshow": {
     "slide_type": "skip"
    }
   },
   "outputs": [],
   "source": [
    "config_file = \"\""
   ]
  },
  {
   "cell_type": "code",
   "execution_count": null,
   "metadata": {
    "slideshow": {
     "slide_type": "skip"
    }
   },
   "outputs": [],
   "source": [
    "from configparser import ConfigParser\n",
    "import pandas as pd\n",
    "\n",
    "from feature_effect_empirical_analysis.plotting.utils import create_joined_melted_df\n",
    "from feature_effect_empirical_analysis.plotting.plots import plot_correlation_analysis"
   ]
  },
  {
   "cell_type": "code",
   "execution_count": null,
   "metadata": {
    "slideshow": {
     "slide_type": "skip"
    }
   },
   "outputs": [],
   "source": [
    "config = ConfigParser()\n",
    "config.read(config_file)"
   ]
  },
  {
   "cell_type": "code",
   "execution_count": null,
   "metadata": {
    "slideshow": {
     "slide_type": "subslide"
    }
   },
   "outputs": [],
   "source": [
    "model_results_storage = config.get(\"storage\", \"model_results\")\n",
    "df_model_res = pd.read_sql_table(\"model_results\", f\"sqlite:///..{model_results_storage}\")\n",
    "df_model_res.head()"
   ]
  },
  {
   "cell_type": "markdown",
   "metadata": {
    "slideshow": {
     "slide_type": "slide"
    }
   },
   "source": [
    "## Feature Effect Results"
   ]
  },
  {
   "cell_type": "code",
   "execution_count": null,
   "metadata": {
    "slideshow": {
     "slide_type": "subslide"
    }
   },
   "outputs": [],
   "source": [
    "feauture_effect_type = \"pdp_results\""
   ]
  },
  {
   "cell_type": "code",
   "execution_count": null,
   "metadata": {},
   "outputs": [],
   "source": [
    "effects_results_storage = config.get(\"storage\", \"effects_results\")\n",
    "df_effect_res = pd.read_sql_table(feauture_effect_type, f\"sqlite:///..{effects_results_storage}\")\n",
    "df_effect_res.head()"
   ]
  },
  {
   "cell_type": "markdown",
   "metadata": {
    "slideshow": {
     "slide_type": "slide"
    }
   },
   "source": [
    "## Correlation Analysis"
   ]
  },
  {
   "cell_type": "code",
   "execution_count": null,
   "metadata": {
    "slideshow": {
     "slide_type": "skip"
    }
   },
   "outputs": [],
   "source": [
    "df_melted = create_joined_melted_df(df_model_res, df_effect_res)\n",
    "df_melted.head()"
   ]
  },
  {
   "cell_type": "code",
   "execution_count": null,
   "metadata": {
    "slideshow": {
     "slide_type": "skip"
    }
   },
   "outputs": [],
   "source": [
    "models = df_melted[\"model_x\"].unique().tolist()\n",
    "\n",
    "g, df_corr = plot_correlation_analysis(\n",
    "    df_melted,\n",
    "    models,\n",
    "    model_error_metric=\"mse_test\",\n",
    "    feature_effect=\"PDP Theoretical\",\n",
    "    correlation_metric=\"Spearman\",\n",
    "    overall_correlation=True,\n",
    "    return_correlation_table=True,\n",
    ")"
   ]
  },
  {
   "cell_type": "code",
   "execution_count": null,
   "metadata": {
    "slideshow": {
     "slide_type": "subslide"
    }
   },
   "outputs": [],
   "source": [
    "g;"
   ]
  },
  {
   "cell_type": "code",
   "execution_count": null,
   "metadata": {
    "slideshow": {
     "slide_type": "subslide"
    }
   },
   "outputs": [],
   "source": [
    "with pd.option_context('display.max_rows', None, 'display.max_columns', None):\n",
    "    display(df_corr.set_index([\"feature\", \"noise_sd\", \"model\"]))"
   ]
  }
 ],
 "metadata": {
  "kernelspec": {
   "display_name": ".venv",
   "language": "python",
   "name": "python3"
  },
  "language_info": {
   "codemirror_mode": {
    "name": "ipython",
    "version": 3
   },
   "file_extension": ".py",
   "mimetype": "text/x-python",
   "name": "python",
   "nbconvert_exporter": "python",
   "pygments_lexer": "ipython3",
   "version": "3.11.7"
  }
 },
 "nbformat": 4,
 "nbformat_minor": 2
}
