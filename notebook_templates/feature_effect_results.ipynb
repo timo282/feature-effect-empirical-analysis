{
 "cells": [
  {
   "cell_type": "markdown",
   "metadata": {
    "slideshow": {
     "slide_type": "slide"
    }
   },
   "source": [
    "# Feature Effect Evaluation"
   ]
  },
  {
   "cell_type": "markdown",
   "metadata": {},
   "source": [
    "<script>\n",
    "    document.querySelector('head').innerHTML += '<style>.slides { zoom: 0.975 !important; }</style>';\n",
    "</script>"
   ]
  },
  {
   "cell_type": "markdown",
   "metadata": {},
   "source": [
    "<style>\n",
    "/* Ensure the entire cell and its output take full width */\n",
    ".reveal .slides > section .cell {\n",
    "    width: 90% !important;\n",
    "    margin: 0 auto;\n",
    "}\n",
    "\n",
    ".reveal .slides > section .output {\n",
    "    width: 90% !important;\n",
    "    max-width: 90% !important;\n",
    "    height: 90% !important;\n",
    "    max-height: 90% !important;\n",
    "    margin: 0 auto;\n",
    "}\n",
    "\n",
    "/* Optional: Adjust the slide width if necessary */\n",
    ".reveal .slides {\n",
    "    width: 90% !important;\n",
    "    max-width: 90% !important;\n",
    "    height: 90% !important;\n",
    "    max-height: 90% !important;\n",
    "}\n",
    "\n",
    "\n",
    "</style>"
   ]
  },
  {
   "cell_type": "code",
   "execution_count": null,
   "metadata": {
    "slideshow": {
     "slide_type": "skip"
    }
   },
   "outputs": [],
   "source": [
    "config_file = \"\"\n",
    "data_str = \"\"  # e.g. \"20240413\"\n",
    "\n",
    "# set up of example\n",
    "sim_no = 1\n",
    "n_train = 1000\n",
    "noise_sd = 0.1"
   ]
  },
  {
   "cell_type": "code",
   "execution_count": null,
   "metadata": {
    "slideshow": {
     "slide_type": "skip"
    }
   },
   "outputs": [],
   "source": [
    "from configparser import ConfigParser\n",
    "from joblib import load\n",
    "import pandas as pd\n",
    "from IPython.display import Markdown as md\n",
    "\n",
    "from feature_effect_empirical_analysis.plotting.plots import boxplot_feature_effect_results, plot_effect_comparison\n",
    "from feature_effect_empirical_analysis.data_generation import generate_data, Groundtruth"
   ]
  },
  {
   "cell_type": "code",
   "execution_count": null,
   "metadata": {
    "slideshow": {
     "slide_type": "skip"
    }
   },
   "outputs": [],
   "source": [
    "config = ConfigParser()\n",
    "config.read(config_file)"
   ]
  },
  {
   "cell_type": "markdown",
   "metadata": {
    "slideshow": {
     "slide_type": "slide"
    }
   },
   "source": [
    "## PDP"
   ]
  },
  {
   "cell_type": "markdown",
   "metadata": {
    "slideshow": {
     "slide_type": "slide"
    }
   },
   "source": [
    "### Error of Model-PD compared to groundtruth-PD"
   ]
  },
  {
   "cell_type": "code",
   "execution_count": null,
   "metadata": {
    "slideshow": {
     "slide_type": "fragment"
    }
   },
   "outputs": [],
   "source": [
    "effects_results_storage = config.get(\"storage\", \"effects_results\")\n",
    "df = pd.read_sql_table(\"pdp_results\", f\"sqlite:///..{effects_results_storage}\")\n",
    "df"
   ]
  },
  {
   "cell_type": "code",
   "execution_count": null,
   "metadata": {
    "slideshow": {
     "slide_type": "subslide"
    }
   },
   "outputs": [],
   "source": [
    "%matplotlib inline\n",
    "boxplot_feature_effect_results(features=[\"x_1\", \"x_2\", \"x_3\", \"x_4\", \"x_5\"], df=df, effect_type=\"PDP\");"
   ]
  },
  {
   "cell_type": "markdown",
   "metadata": {
    "slideshow": {
     "slide_type": "slide"
    }
   },
   "source": [
    "### PDP example visualizations"
   ]
  },
  {
   "cell_type": "code",
   "execution_count": null,
   "metadata": {},
   "outputs": [],
   "source": [
    "md(f\"(simulation no. {sim_no} with n_train={n_train} and noise_sd={noise_sd})\")"
   ]
  },
  {
   "cell_type": "code",
   "execution_count": null,
   "metadata": {
    "slideshow": {
     "slide_type": "skip"
    }
   },
   "outputs": [],
   "source": [
    "# recreate dataset\n",
    "X_train, y_train, X_test, y_test = generate_data(1000, 1000, 0.1, seed=1)\n",
    "# init groundtruth\n",
    "groundtruth = Groundtruth()\n",
    "# load models\n",
    "rf = load(f'../models/RandomForestRegressor_{data_str}_{sim_no}_{n_train}_{noise_sd}.joblib')\n",
    "xgb = load(f'../models/XGBRegressor_{data_str}_{sim_no}_{n_train}_{noise_sd}.joblib')\n",
    "tree = load(f'../models/DecisionTreeRegressor_{data_str}_{sim_no}_{n_train}_{noise_sd}.joblib')\n",
    "svm = load(f'../models/SVR_{data_str}_{sim_no}_{n_train}_{noise_sd}.joblib')\n",
    "elasticnet = load(f'../models/ElasticNet_{data_str}_{sim_no}_{n_train}_{noise_sd}.joblib')\n",
    "gam = load(f'../models/GAM_{data_str}_{sim_no}_{n_train}_{noise_sd}.joblib')"
   ]
  },
  {
   "cell_type": "code",
   "execution_count": null,
   "metadata": {
    "slideshow": {
     "slide_type": "subslide"
    }
   },
   "outputs": [],
   "source": [
    "%matplotlib inline\n",
    "plot_effect_comparison(rf, groundtruth, X_train, effect=\"PDP\", features=['x_1', \"x_2\", \"x_3\", \"x_4\", \"x_5\"], config=config);"
   ]
  },
  {
   "cell_type": "code",
   "execution_count": null,
   "metadata": {
    "slideshow": {
     "slide_type": "fragment"
    }
   },
   "outputs": [],
   "source": [
    "%matplotlib inline\n",
    "plot_effect_comparison(xgb, groundtruth, X_train, effect=\"PDP\", features=['x_1', \"x_2\", \"x_3\", \"x_4\", \"x_5\"], config=config);"
   ]
  },
  {
   "cell_type": "code",
   "execution_count": null,
   "metadata": {
    "slideshow": {
     "slide_type": "subslide"
    }
   },
   "outputs": [],
   "source": [
    "%matplotlib inline\n",
    "plot_effect_comparison(tree, groundtruth, X_train, effect=\"PDP\", features=['x_1', \"x_2\", \"x_3\", \"x_4\", \"x_5\"], config=config);"
   ]
  },
  {
   "cell_type": "code",
   "execution_count": null,
   "metadata": {
    "slideshow": {
     "slide_type": "fragment"
    }
   },
   "outputs": [],
   "source": [
    "%matplotlib inline\n",
    "plot_effect_comparison(svm, groundtruth, X_train, effect=\"PDP\", features=['x_1', \"x_2\", \"x_3\", \"x_4\", \"x_5\"], config=config);"
   ]
  },
  {
   "cell_type": "code",
   "execution_count": null,
   "metadata": {
    "slideshow": {
     "slide_type": "subslide"
    }
   },
   "outputs": [],
   "source": [
    "%matplotlib inline\n",
    "plot_effect_comparison(elasticnet, groundtruth, X_train, effect=\"PDP\", features=['x_1', \"x_2\", \"x_3\", \"x_4\", \"x_5\"], config=config);"
   ]
  },
  {
   "cell_type": "code",
   "execution_count": null,
   "metadata": {
    "slideshow": {
     "slide_type": "fragment"
    }
   },
   "outputs": [],
   "source": [
    "%matplotlib inline\n",
    "plot_effect_comparison(gam, groundtruth, X_train, effect=\"PDP\", features=['x_1', \"x_2\", \"x_3\", \"x_4\", \"x_5\"], config=config);"
   ]
  },
  {
   "cell_type": "markdown",
   "metadata": {
    "slideshow": {
     "slide_type": "slide"
    }
   },
   "source": [
    "## ALE"
   ]
  },
  {
   "cell_type": "markdown",
   "metadata": {
    "slideshow": {
     "slide_type": "slide"
    }
   },
   "source": [
    "### Error of Model-ALE compared to groundtruth-ALE"
   ]
  },
  {
   "cell_type": "code",
   "execution_count": null,
   "metadata": {
    "slideshow": {
     "slide_type": "fragment"
    }
   },
   "outputs": [],
   "source": [
    "effects_results_storage = config.get(\"storage\", \"effects_results\")\n",
    "df = pd.read_sql_table(\"ale_results\", f\"sqlite:///..{effects_results_storage}\")\n",
    "df"
   ]
  },
  {
   "cell_type": "code",
   "execution_count": null,
   "metadata": {
    "slideshow": {
     "slide_type": "subslide"
    }
   },
   "outputs": [],
   "source": [
    "%matplotlib inline\n",
    "boxplot_feature_effect_results(features=[\"x_1\", \"x_2\", \"x_3\", \"x_4\", \"x_5\"], df=df, effect_type=\"ALE\");"
   ]
  },
  {
   "cell_type": "markdown",
   "metadata": {
    "slideshow": {
     "slide_type": "slide"
    }
   },
   "source": [
    "### ALE example visualizations"
   ]
  },
  {
   "cell_type": "code",
   "execution_count": null,
   "metadata": {},
   "outputs": [],
   "source": [
    "md(f\"(simulation no. {sim_no} with n_train={n_train} and noise_sd={noise_sd})\")"
   ]
  },
  {
   "cell_type": "code",
   "execution_count": null,
   "metadata": {
    "slideshow": {
     "slide_type": "subslide"
    }
   },
   "outputs": [],
   "source": [
    "%matplotlib inline\n",
    "plot_effect_comparison(rf, groundtruth, X_train, effect=\"ALE\", features=['x_1', \"x_2\", \"x_3\", \"x_4\", \"x_5\"], config=config);"
   ]
  },
  {
   "cell_type": "code",
   "execution_count": null,
   "metadata": {
    "slideshow": {
     "slide_type": "fragment"
    }
   },
   "outputs": [],
   "source": [
    "%matplotlib inline\n",
    "plot_effect_comparison(xgb, groundtruth, X_train, effect=\"ALE\", features=['x_1', \"x_2\", \"x_3\", \"x_4\", \"x_5\"], config=config);"
   ]
  },
  {
   "cell_type": "code",
   "execution_count": null,
   "metadata": {
    "slideshow": {
     "slide_type": "subslide"
    }
   },
   "outputs": [],
   "source": [
    "%matplotlib inline\n",
    "plot_effect_comparison(tree, groundtruth, X_train, effect=\"ALE\", features=['x_1', \"x_2\", \"x_3\", \"x_4\", \"x_5\"], config=config);"
   ]
  },
  {
   "cell_type": "code",
   "execution_count": null,
   "metadata": {
    "slideshow": {
     "slide_type": "fragment"
    }
   },
   "outputs": [],
   "source": [
    "%matplotlib inline\n",
    "plot_effect_comparison(svm, groundtruth, X_train, effect=\"ALE\", features=['x_1', \"x_2\", \"x_3\", \"x_4\", \"x_5\"], config=config);"
   ]
  },
  {
   "cell_type": "code",
   "execution_count": null,
   "metadata": {
    "slideshow": {
     "slide_type": "subslide"
    }
   },
   "outputs": [],
   "source": [
    "%matplotlib inline\n",
    "plot_effect_comparison(elasticnet, groundtruth, X_train, effect=\"ALE\", features=['x_1', \"x_2\", \"x_3\", \"x_4\", \"x_5\"], config=config);"
   ]
  },
  {
   "cell_type": "code",
   "execution_count": null,
   "metadata": {
    "slideshow": {
     "slide_type": "fragment"
    }
   },
   "outputs": [],
   "source": [
    "%matplotlib inline\n",
    "plot_effect_comparison(gam, groundtruth, X_train, effect=\"ALE\", features=['x_1', \"x_2\", \"x_3\", \"x_4\", \"x_5\"], config=config);"
   ]
  }
 ],
 "metadata": {
  "kernelspec": {
   "display_name": ".venv",
   "language": "python",
   "name": "python3"
  },
  "language_info": {
   "codemirror_mode": {
    "name": "ipython",
    "version": 3
   },
   "file_extension": ".py",
   "mimetype": "text/x-python",
   "name": "python",
   "nbconvert_exporter": "python",
   "pygments_lexer": "ipython3",
   "version": "3.11.7"
  }
 },
 "nbformat": 4,
 "nbformat_minor": 2
}
