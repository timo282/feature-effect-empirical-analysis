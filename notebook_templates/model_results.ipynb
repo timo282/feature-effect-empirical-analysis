{
 "cells": [
  {
   "cell_type": "markdown",
   "metadata": {
    "slideshow": {
     "slide_type": "slide"
    }
   },
   "source": [
    "# Model Results"
   ]
  },
  {
   "cell_type": "markdown",
   "metadata": {},
   "source": [
    "<script>\n",
    "    document.querySelector('head').innerHTML += '<style>.slides { zoom: 0.975 !important; }</style>';\n",
    "</script>\n",
    "<style>\n",
    "/* Ensure the entire cell and its output take full width */\n",
    ".reveal .slides > section .cell {\n",
    "    width: 90% !important;\n",
    "    margin: 0 auto;\n",
    "}\n",
    "\n",
    ".reveal .slides > section .output {\n",
    "    width: 90% !important;\n",
    "    max-width: 90% !important;\n",
    "    height: 90% !important;\n",
    "    max-height: 90% !important;\n",
    "    margin: 0 auto;\n",
    "}\n",
    "\n",
    "/* Optional: Adjust the slide width if necessary */\n",
    ".reveal .slides {\n",
    "    width: 90% !important;\n",
    "    max-width: 90% !important;\n",
    "    height: 90% !important;\n",
    "    max-height: 90% !important;\n",
    "}\n",
    "\n",
    "\n",
    "</style>"
   ]
  },
  {
   "cell_type": "code",
   "execution_count": 2,
   "metadata": {
    "slideshow": {
     "slide_type": "skip"
    }
   },
   "outputs": [],
   "source": [
    "config_file = \"\""
   ]
  },
  {
   "cell_type": "code",
   "execution_count": 4,
   "metadata": {
    "slideshow": {
     "slide_type": "skip"
    }
   },
   "outputs": [],
   "source": [
    "from configparser import ConfigParser\n",
    "import pandas as pd\n",
    "\n",
    "from feature_effect_empirical_analysis.plotting.plots import boxplot_model_results"
   ]
  },
  {
   "cell_type": "code",
   "execution_count": null,
   "metadata": {
    "slideshow": {
     "slide_type": "skip"
    }
   },
   "outputs": [],
   "source": [
    "config = ConfigParser()\n",
    "config.read(config_file)"
   ]
  },
  {
   "cell_type": "code",
   "execution_count": null,
   "metadata": {
    "slideshow": {
     "slide_type": "slide"
    }
   },
   "outputs": [],
   "source": [
    "model_results_storage = config.get(\"storage\", \"model_results\")\n",
    "df = pd.read_sql_table(\"model_results\", f\"sqlite:///..{model_results_storage}\")\n",
    "df"
   ]
  },
  {
   "cell_type": "code",
   "execution_count": null,
   "metadata": {
    "slideshow": {
     "slide_type": "slide"
    }
   },
   "outputs": [],
   "source": [
    "%matplotlib inline\n",
    "boxplot_model_results(metric='mse', df=df);"
   ]
  },
  {
   "cell_type": "code",
   "execution_count": null,
   "metadata": {
    "slideshow": {
     "slide_type": "subslide"
    }
   },
   "outputs": [],
   "source": [
    "%matplotlib inline\n",
    "boxplot_model_results(metric='mae', df=df);"
   ]
  },
  {
   "cell_type": "code",
   "execution_count": null,
   "metadata": {
    "slideshow": {
     "slide_type": "subslide"
    }
   },
   "outputs": [],
   "source": [
    "%matplotlib inline\n",
    "boxplot_model_results(metric='r2', df=df);"
   ]
  }
 ],
 "metadata": {
  "kernelspec": {
   "display_name": ".venv",
   "language": "python",
   "name": "python3"
  },
  "language_info": {
   "codemirror_mode": {
    "name": "ipython",
    "version": 3
   },
   "file_extension": ".py",
   "mimetype": "text/x-python",
   "name": "python",
   "nbconvert_exporter": "python",
   "pygments_lexer": "ipython3",
   "version": "3.11.7"
  }
 },
 "nbformat": 4,
 "nbformat_minor": 2
}
